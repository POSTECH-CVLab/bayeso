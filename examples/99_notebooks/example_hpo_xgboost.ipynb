{
 "cells": [
  {
   "cell_type": "code",
   "execution_count": null,
   "metadata": {},
   "outputs": [],
   "source": [
    "import numpy as np\n",
    "import xgboost as xgb\n",
    "import sklearn.datasets\n",
    "import sklearn.metrics\n",
    "import sklearn.model_selection\n",
    "\n",
    "from bayeso import bo\n",
    "from bayeso.utils import utils_bo\n",
    "from bayeso.utils import utils_plotting"
   ]
  },
  {
   "cell_type": "code",
   "execution_count": null,
   "metadata": {},
   "outputs": [],
   "source": [
    "digits = sklearn.datasets.load_digits()\n",
    "data_digits = digits.images\n",
    "data_digits = np.reshape(data_digits,\n",
    "    (data_digits.shape[0], data_digits.shape[1] * data_digits.shape[2]))\n",
    "labels_digits = digits.target\n",
    "\n",
    "data_train, data_test, labels_train, labels_test = sklearn.model_selection.train_test_split(\n",
    "    data_digits, labels_digits, test_size=0.3, stratify=labels_digits)"
   ]
  },
  {
   "cell_type": "code",
   "execution_count": null,
   "metadata": {},
   "outputs": [],
   "source": [
    "def fun_target(bx):\n",
    "    model_xgb = xgb.XGBClassifier(\n",
    "        max_depth=int(bx[0]),\n",
    "        n_estimators=int(bx[1])\n",
    "    )\n",
    "    model_xgb.fit(data_train, labels_train)\n",
    "    preds_test = model_xgb.predict(data_test)\n",
    "    return 1.0 - sklearn.metrics.accuracy_score(labels_test, preds_test)"
   ]
  },
  {
   "cell_type": "code",
   "execution_count": null,
   "metadata": {},
   "outputs": [],
   "source": [
    "str_fun = 'xgboost'\n",
    "\n",
    "# (max_depth, n_estimators)\n",
    "bounds = np.array([[1, 10], [100, 500]])\n",
    "int_bo = 10\n",
    "int_iter = 50\n",
    "int_init = 5"
   ]
  },
  {
   "cell_type": "code",
   "execution_count": null,
   "metadata": {},
   "outputs": [],
   "source": [
    "model_bo = bo.BO(bounds, debug=False)\n",
    "\n",
    "list_Y = []\n",
    "list_time = []\n",
    "\n",
    "for ind_bo in range(0, int_bo):\n",
    "    print('BO Iteration:', ind_bo + 1)\n",
    "    X_final, Y_final, time_final, _, _ = utils_bo.optimize_many_with_random_init(\n",
    "        model_bo, fun_target, int_init, int_iter,\n",
    "        str_initial_method_bo='uniform', str_initial_method_ao='uniform',\n",
    "        int_samples_ao=100, int_seed=42 * ind_bo)\n",
    "    list_Y.append(Y_final)\n",
    "    list_time.append(time_final)\n",
    "    \n",
    "arr_Y = np.array(list_Y)\n",
    "arr_time = np.array(list_time)\n",
    "\n",
    "arr_Y = np.expand_dims(np.squeeze(arr_Y), axis=0)\n",
    "arr_time = np.expand_dims(arr_time, axis=0)"
   ]
  },
  {
   "cell_type": "code",
   "execution_count": null,
   "metadata": {},
   "outputs": [],
   "source": [
    "utils_plotting.plot_minimum(arr_Y, [str_fun], int_init, True,\n",
    "    is_tex=True,\n",
    "    str_x_axis=r'\\textrm{Iteration}',\n",
    "    str_y_axis=r'$1 - $\\textrm{Accuracy}')\n",
    "utils_plotting.plot_minimum_time(arr_time, arr_Y, [str_fun], int_init, True,\n",
    "    is_tex=True,\n",
    "    str_x_axis=r'\\textrm{Time (sec.)}',\n",
    "    str_y_axis=r'$1 - $\\textrm{Accuracy}')"
   ]
  },
  {
   "cell_type": "code",
   "execution_count": null,
   "metadata": {},
   "outputs": [],
   "source": []
  }
 ],
 "metadata": {
  "kernelspec": {
   "display_name": "Python 3",
   "language": "python",
   "name": "python3"
  },
  "language_info": {
   "codemirror_mode": {
    "name": "ipython",
    "version": 3
   },
   "file_extension": ".py",
   "mimetype": "text/x-python",
   "name": "python",
   "nbconvert_exporter": "python",
   "pygments_lexer": "ipython3",
   "version": "3.6.9"
  }
 },
 "nbformat": 4,
 "nbformat_minor": 2
}
